{
 "cells": [
  {
   "cell_type": "code",
   "execution_count": 1,
   "id": "4c27428c",
   "metadata": {},
   "outputs": [],
   "source": [
    "import numpy as np"
   ]
  },
  {
   "cell_type": "code",
   "execution_count": 6,
   "id": "2d22b995",
   "metadata": {},
   "outputs": [
    {
     "name": "stdout",
     "output_type": "stream",
     "text": [
      "[ 0  1  2  3  4  5  6  7  8  9 10]\n"
     ]
    }
   ],
   "source": [
    "my_list = [0,1,2,3,4,5,6,7,8,9,10]\n",
    "nparr = np.array(my_list)  #넘파이 배열로 만들기\n",
    "print(nparr)"
   ]
  },
  {
   "cell_type": "code",
   "execution_count": 21,
   "id": "f70bfc59",
   "metadata": {},
   "outputs": [
    {
     "name": "stdout",
     "output_type": "stream",
     "text": [
      "[  0   1   2   3   4   5   6   7   8   9  10  11  12  13  14  15  16  17\n",
      "  18  19  20  21  22  23  24  25  26  27  28  29  30  31  32  33  34  35\n",
      "  36  37  38  39  40  41  42  43  44  45  46  47  48  49  50  51  52  53\n",
      "  54  55  56  57  58  59  60  61  62  63  64  65  66  67  68  69  70  71\n",
      "  72  73  74  75  76  77  78  79  80  81  82  83  84  85  86  87  88  89\n",
      "  90  91  92  93  94  95  96  97  98  99 100]\n"
     ]
    }
   ],
   "source": [
    "nparr=np.arange(0,101)  #0 부터 101전까지\n",
    "print(nparr)"
   ]
  },
  {
   "cell_type": "code",
   "execution_count": 23,
   "id": "69251cd5",
   "metadata": {},
   "outputs": [
    {
     "name": "stdout",
     "output_type": "stream",
     "text": [
      "[  0   2   4   6   8  10  12  14  16  18  20  22  24  26  28  30  32  34\n",
      "  36  38  40  42  44  46  48  50  52  54  56  58  60  62  64  66  68  70\n",
      "  72  74  76  78  80  82  84  86  88  90  92  94  96  98 100 102 104 106\n",
      " 108 110 112 114 116 118 120 122 124 126 128 130 132 134 136 138 140 142\n",
      " 144 146 148 150 152 154 156 158 160 162 164 166 168 170 172 174 176 178\n",
      " 180 182 184 186 188 190 192 194 196 198 200]\n"
     ]
    }
   ],
   "source": [
    "nparr_added = nparr + nparr #넘파이(배열) 각 자리를 더해서 출력\n",
    "print(nparr_added)"
   ]
  },
  {
   "cell_type": "code",
   "execution_count": 25,
   "id": "98368ad9",
   "metadata": {},
   "outputs": [
    {
     "name": "stdout",
     "output_type": "stream",
     "text": [
      "[0 0 0 0 0 0 0 0 0 0 0 0 0 0 0 0 0 0 0 0 0 0 0 0 0 0 0 0 0 0 0 0 0 0 0 0 0\n",
      " 0 0 0 0 0 0 0 0 0 0 0 0 0 0 0 0 0 0 0 0 0 0 0 0 0 0 0 0 0 0 0 0 0 0 0 0 0\n",
      " 0 0 0 0 0 0 0 0 0 0 0 0 0 0 0 0 0 0 0 0 0 0 0 0 0 0 0]\n"
     ]
    }
   ],
   "source": [
    "nparr_sub=nparr - nparr\n",
    "print(nparr_sub)"
   ]
  },
  {
   "cell_type": "code",
   "execution_count": 26,
   "id": "ab757c15",
   "metadata": {},
   "outputs": [
    {
     "name": "stdout",
     "output_type": "stream",
     "text": [
      "[    0     1     4     9    16    25    36    49    64    81   100   121\n",
      "   144   169   196   225   256   289   324   361   400   441   484   529\n",
      "   576   625   676   729   784   841   900   961  1024  1089  1156  1225\n",
      "  1296  1369  1444  1521  1600  1681  1764  1849  1936  2025  2116  2209\n",
      "  2304  2401  2500  2601  2704  2809  2916  3025  3136  3249  3364  3481\n",
      "  3600  3721  3844  3969  4096  4225  4356  4489  4624  4761  4900  5041\n",
      "  5184  5329  5476  5625  5776  5929  6084  6241  6400  6561  6724  6889\n",
      "  7056  7225  7396  7569  7744  7921  8100  8281  8464  8649  8836  9025\n",
      "  9216  9409  9604  9801 10000]\n"
     ]
    }
   ],
   "source": [
    "nparr_mult = nparr * nparr\n",
    "print(nparr_mult)"
   ]
  },
  {
   "cell_type": "code",
   "execution_count": 27,
   "id": "d794bc6f",
   "metadata": {},
   "outputs": [
    {
     "name": "stdout",
     "output_type": "stream",
     "text": [
      "[nan  1.  1.  1.  1.  1.  1.  1.  1.  1.  1.  1.  1.  1.  1.  1.  1.  1.\n",
      "  1.  1.  1.  1.  1.  1.  1.  1.  1.  1.  1.  1.  1.  1.  1.  1.  1.  1.\n",
      "  1.  1.  1.  1.  1.  1.  1.  1.  1.  1.  1.  1.  1.  1.  1.  1.  1.  1.\n",
      "  1.  1.  1.  1.  1.  1.  1.  1.  1.  1.  1.  1.  1.  1.  1.  1.  1.  1.\n",
      "  1.  1.  1.  1.  1.  1.  1.  1.  1.  1.  1.  1.  1.  1.  1.  1.  1.  1.\n",
      "  1.  1.  1.  1.  1.  1.  1.  1.  1.  1.  1.]\n"
     ]
    },
    {
     "name": "stderr",
     "output_type": "stream",
     "text": [
      "C:\\Users\\SP501_14\\AppData\\Local\\Temp/ipykernel_6752/3178792209.py:1: RuntimeWarning: invalid value encountered in true_divide\n",
      "  nparr_div = nparr / nparr\n"
     ]
    }
   ],
   "source": [
    "nparr_div = nparr / nparr\n",
    "print(nparr_div)"
   ]
  },
  {
   "cell_type": "code",
   "execution_count": 28,
   "id": "1c931828",
   "metadata": {},
   "outputs": [
    {
     "name": "stdout",
     "output_type": "stream",
     "text": [
      "[   0   10   20   30   40   50   60   70   80   90  100  110  120  130\n",
      "  140  150  160  170  180  190  200  210  220  230  240  250  260  270\n",
      "  280  290  300  310  320  330  340  350  360  370  380  390  400  410\n",
      "  420  430  440  450  460  470  480  490  500  510  520  530  540  550\n",
      "  560  570  580  590  600  610  620  630  640  650  660  670  680  690\n",
      "  700  710  720  730  740  750  760  770  780  790  800  810  820  830\n",
      "  840  850  860  870  880  890  900  910  920  930  940  950  960  970\n",
      "  980  990 1000]\n"
     ]
    }
   ],
   "source": [
    "nparr_esc = nparr * 10  #각 자리에 곱하기 10을 함\n",
    "print(nparr_esc)"
   ]
  },
  {
   "cell_type": "code",
   "execution_count": 29,
   "id": "bb767752",
   "metadata": {},
   "outputs": [
    {
     "name": "stdout",
     "output_type": "stream",
     "text": [
      "[       inf 1.         0.5        0.33333333 0.25       0.2\n",
      " 0.16666667 0.14285714 0.125      0.11111111 0.1        0.09090909\n",
      " 0.08333333 0.07692308 0.07142857 0.06666667 0.0625     0.05882353\n",
      " 0.05555556 0.05263158 0.05       0.04761905 0.04545455 0.04347826\n",
      " 0.04166667 0.04       0.03846154 0.03703704 0.03571429 0.03448276\n",
      " 0.03333333 0.03225806 0.03125    0.03030303 0.02941176 0.02857143\n",
      " 0.02777778 0.02702703 0.02631579 0.02564103 0.025      0.02439024\n",
      " 0.02380952 0.02325581 0.02272727 0.02222222 0.02173913 0.0212766\n",
      " 0.02083333 0.02040816 0.02       0.01960784 0.01923077 0.01886792\n",
      " 0.01851852 0.01818182 0.01785714 0.01754386 0.01724138 0.01694915\n",
      " 0.01666667 0.01639344 0.01612903 0.01587302 0.015625   0.01538462\n",
      " 0.01515152 0.01492537 0.01470588 0.01449275 0.01428571 0.01408451\n",
      " 0.01388889 0.01369863 0.01351351 0.01333333 0.01315789 0.01298701\n",
      " 0.01282051 0.01265823 0.0125     0.01234568 0.01219512 0.01204819\n",
      " 0.01190476 0.01176471 0.01162791 0.01149425 0.01136364 0.01123596\n",
      " 0.01111111 0.01098901 0.01086957 0.01075269 0.0106383  0.01052632\n",
      " 0.01041667 0.01030928 0.01020408 0.01010101 0.01      ]\n"
     ]
    },
    {
     "name": "stderr",
     "output_type": "stream",
     "text": [
      "C:\\Users\\SP501_14\\AppData\\Local\\Temp/ipykernel_6752/624558858.py:1: RuntimeWarning: divide by zero encountered in true_divide\n",
      "  nparr_one_div = 1/nparr\n"
     ]
    }
   ],
   "source": [
    "nparr_one_div = 1/nparr\n",
    "print(nparr_one_div)"
   ]
  },
  {
   "cell_type": "code",
   "execution_count": 30,
   "id": "8ba67f05",
   "metadata": {},
   "outputs": [
    {
     "name": "stdout",
     "output_type": "stream",
     "text": [
      "100\n"
     ]
    }
   ],
   "source": [
    "nparr_max = np.max(nparr) #배열의 최대값 찾기 함수 \n",
    "print(nparr_max)"
   ]
  },
  {
   "cell_type": "code",
   "execution_count": 31,
   "id": "6ca0575d",
   "metadata": {},
   "outputs": [
    {
     "name": "stdout",
     "output_type": "stream",
     "text": [
      "0\n"
     ]
    }
   ],
   "source": [
    "nparr_min = np.min(nparr)  #최솟값 찾기\n",
    "print(nparr_min)"
   ]
  },
  {
   "cell_type": "code",
   "execution_count": 32,
   "id": "ad8a1b3d",
   "metadata": {},
   "outputs": [
    {
     "name": "stdout",
     "output_type": "stream",
     "text": [
      "[10 11 12 13 14 15 16 17 18 19 20 21 22 23 24 25 26 27 28 29 30 31 32 33\n",
      " 34 35 36 37 38 39 40 41 42 43 44 45 46 47 48 49 50]\n"
     ]
    }
   ],
   "source": [
    "arr_10to50 = np.arange(10,51) #10부터 51전까지 출력\n",
    "print(arr_10to50)"
   ]
  },
  {
   "cell_type": "code",
   "execution_count": 33,
   "id": "b4403fce",
   "metadata": {},
   "outputs": [
    {
     "name": "stdout",
     "output_type": "stream",
     "text": [
      "[10 12 14 16 18 20 22 24 26 28 30 32 34 36 38 40 42 44 46 48 50]\n"
     ]
    }
   ],
   "source": [
    "arr_10to50_even = np.arange(10,51,2) #10부터 51전까지 2씩 증가\n",
    "print(arr_10to50_even)"
   ]
  },
  {
   "cell_type": "code",
   "execution_count": 41,
   "id": "419df820",
   "metadata": {},
   "outputs": [
    {
     "data": {
      "text/plain": [
       "array([[1, 2, 3],\n",
       "       [4, 5, 6],\n",
       "       [7, 8, 9]])"
      ]
     },
     "execution_count": 41,
     "metadata": {},
     "output_type": "execute_result"
    }
   ],
   "source": [
    "np.arange(1,10).reshape(3,3)  #reshape  ==(는) 모양을 3행 3렬로 바까줌 "
   ]
  },
  {
   "cell_type": "code",
   "execution_count": 42,
   "id": "172f3f82",
   "metadata": {},
   "outputs": [
    {
     "data": {
      "text/plain": [
       "array([0.55252236])"
      ]
     },
     "execution_count": 42,
     "metadata": {},
     "output_type": "execute_result"
    }
   ],
   "source": [
    "np.random.rand(1)  #랜덤값 1개"
   ]
  },
  {
   "cell_type": "code",
   "execution_count": 43,
   "id": "f0cc9c68",
   "metadata": {},
   "outputs": [
    {
     "data": {
      "text/plain": [
       "array([0.56281889, 0.15947923, 0.50769817, 0.32903956, 0.91822196,\n",
       "       0.03643593, 0.50111037, 0.79374641, 0.72117503, 0.50837906,\n",
       "       0.45518837, 0.24287878, 0.31643238, 0.88673653, 0.78294783,\n",
       "       0.85129808, 0.66708731, 0.21959987, 0.44835582, 0.2011706 ,\n",
       "       0.91623423, 0.39986054, 0.91691001, 0.91200079, 0.27475918])"
      ]
     },
     "execution_count": 43,
     "metadata": {},
     "output_type": "execute_result"
    }
   ],
   "source": [
    "np.random.rand(25)  #랜덤값 25개"
   ]
  },
  {
   "cell_type": "code",
   "execution_count": 44,
   "id": "f3174af0",
   "metadata": {},
   "outputs": [
    {
     "data": {
      "text/plain": [
       "array([[0.01, 0.02, 0.03, 0.04, 0.05, 0.06, 0.07, 0.08, 0.09, 0.1 ],\n",
       "       [0.11, 0.12, 0.13, 0.14, 0.15, 0.16, 0.17, 0.18, 0.19, 0.2 ],\n",
       "       [0.21, 0.22, 0.23, 0.24, 0.25, 0.26, 0.27, 0.28, 0.29, 0.3 ],\n",
       "       [0.31, 0.32, 0.33, 0.34, 0.35, 0.36, 0.37, 0.38, 0.39, 0.4 ],\n",
       "       [0.41, 0.42, 0.43, 0.44, 0.45, 0.46, 0.47, 0.48, 0.49, 0.5 ],\n",
       "       [0.51, 0.52, 0.53, 0.54, 0.55, 0.56, 0.57, 0.58, 0.59, 0.6 ],\n",
       "       [0.61, 0.62, 0.63, 0.64, 0.65, 0.66, 0.67, 0.68, 0.69, 0.7 ],\n",
       "       [0.71, 0.72, 0.73, 0.74, 0.75, 0.76, 0.77, 0.78, 0.79, 0.8 ],\n",
       "       [0.81, 0.82, 0.83, 0.84, 0.85, 0.86, 0.87, 0.88, 0.89, 0.9 ],\n",
       "       [0.91, 0.92, 0.93, 0.94, 0.95, 0.96, 0.97, 0.98, 0.99, 1.  ]])"
      ]
     },
     "execution_count": 44,
     "metadata": {},
     "output_type": "execute_result"
    }
   ],
   "source": [
    "np.arange(1,101).reshape(10,10)/100"
   ]
  },
  {
   "cell_type": "code",
   "execution_count": 45,
   "id": "6284cbdb",
   "metadata": {},
   "outputs": [
    {
     "name": "stdout",
     "output_type": "stream",
     "text": [
      "[[ 1  2  3  4  5]\n",
      " [ 6  7  8  9 10]\n",
      " [11 12 13 14 15]\n",
      " [16 17 18 19 20]\n",
      " [21 22 23 24 25]]\n"
     ]
    }
   ],
   "source": [
    "arr_2_d = np.arange(1,26).reshape(5,5)\n",
    "print(arr_2_d)"
   ]
  },
  {
   "cell_type": "code",
   "execution_count": 46,
   "id": "2e7d3dd0",
   "metadata": {},
   "outputs": [
    {
     "data": {
      "text/plain": [
       "20"
      ]
     },
     "execution_count": 46,
     "metadata": {},
     "output_type": "execute_result"
    }
   ],
   "source": [
    "arr_2_d[3,4]"
   ]
  },
  {
   "cell_type": "code",
   "execution_count": 47,
   "id": "f7f4edac",
   "metadata": {},
   "outputs": [
    {
     "data": {
      "text/plain": [
       "array([[ 2],\n",
       "       [ 7],\n",
       "       [12]])"
      ]
     },
     "execution_count": 47,
     "metadata": {},
     "output_type": "execute_result"
    }
   ],
   "source": [
    "arr_2_d[:3,1:2]"
   ]
  },
  {
   "cell_type": "code",
   "execution_count": 49,
   "id": "5f291d1f",
   "metadata": {},
   "outputs": [
    {
     "data": {
      "text/plain": [
       "array([[21, 22, 23, 24, 25]])"
      ]
     },
     "execution_count": 49,
     "metadata": {},
     "output_type": "execute_result"
    }
   ],
   "source": [
    "arr_2_d[4:]"
   ]
  },
  {
   "cell_type": "code",
   "execution_count": 50,
   "id": "acef06c3",
   "metadata": {},
   "outputs": [
    {
     "data": {
      "text/plain": [
       "325"
      ]
     },
     "execution_count": 50,
     "metadata": {},
     "output_type": "execute_result"
    }
   ],
   "source": [
    "np.sum(arr_2_d) #값 다 더하기"
   ]
  },
  {
   "cell_type": "code",
   "execution_count": 51,
   "id": "265c3dbf",
   "metadata": {},
   "outputs": [
    {
     "data": {
      "text/plain": [
       "325"
      ]
     },
     "execution_count": 51,
     "metadata": {},
     "output_type": "execute_result"
    }
   ],
   "source": [
    "arr_2_d.sum() #값 다 더하기"
   ]
  },
  {
   "cell_type": "code",
   "execution_count": 52,
   "id": "fe7e4363",
   "metadata": {},
   "outputs": [
    {
     "data": {
      "text/plain": [
       "7.211102550927978"
      ]
     },
     "execution_count": 52,
     "metadata": {},
     "output_type": "execute_result"
    }
   ],
   "source": [
    "np.std(arr_2_d)  #표준편차"
   ]
  },
  {
   "cell_type": "code",
   "execution_count": 53,
   "id": "3b891036",
   "metadata": {},
   "outputs": [
    {
     "data": {
      "text/plain": [
       "7.211102550927978"
      ]
     },
     "execution_count": 53,
     "metadata": {},
     "output_type": "execute_result"
    }
   ],
   "source": [
    "arr_2_d.std()"
   ]
  },
  {
   "cell_type": "code",
   "execution_count": 54,
   "id": "6aaa86e6",
   "metadata": {},
   "outputs": [
    {
     "data": {
      "text/plain": [
       "array([55, 60, 65, 70, 75])"
      ]
     },
     "execution_count": 54,
     "metadata": {},
     "output_type": "execute_result"
    }
   ],
   "source": [
    "arr_2_d.sum(axis=0) #열을 기준으로 행을 더한값 출력"
   ]
  },
  {
   "cell_type": "code",
   "execution_count": 55,
   "id": "59e782bc",
   "metadata": {},
   "outputs": [
    {
     "data": {
      "text/plain": [
       "array([ 15,  40,  65,  90, 115])"
      ]
     },
     "execution_count": 55,
     "metadata": {},
     "output_type": "execute_result"
    }
   ],
   "source": [
    "arr_2_d.sum(axis=1) #행을 기준으로 해서 열값을 더한 값 출력"
   ]
  },
  {
   "cell_type": "code",
   "execution_count": null,
   "id": "3de2fccd",
   "metadata": {},
   "outputs": [],
   "source": []
  }
 ],
 "metadata": {
  "kernelspec": {
   "display_name": "Python 3 (ipykernel)",
   "language": "python",
   "name": "python3"
  },
  "language_info": {
   "codemirror_mode": {
    "name": "ipython",
    "version": 3
   },
   "file_extension": ".py",
   "mimetype": "text/x-python",
   "name": "python",
   "nbconvert_exporter": "python",
   "pygments_lexer": "ipython3",
   "version": "3.9.7"
  }
 },
 "nbformat": 4,
 "nbformat_minor": 5
}
