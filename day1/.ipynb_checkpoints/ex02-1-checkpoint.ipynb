{
 "cells": [
  {
   "cell_type": "code",
   "execution_count": 1,
   "id": "14c63dd1",
   "metadata": {},
   "outputs": [],
   "source": [
    "import pandas as pd"
   ]
  },
  {
   "cell_type": "code",
   "execution_count": 2,
   "id": "12402089",
   "metadata": {},
   "outputs": [],
   "source": [
    "col_names=['스트레스', '스트레스남학생', '스트레스여학생', '우울감경험율', '우울남학생', '우울여학생', '자살생각율', '자살남학생','자살여학생']"
   ]
  },
  {
   "cell_type": "code",
   "execution_count": 3,
   "id": "87e46e10",
   "metadata": {},
   "outputs": [],
   "source": [
    "raw_data = pd.read_excel(\"./data/teen.xls\", header=1, usecols=\"C:K\", names=col_names)"
   ]
  },
  {
   "cell_type": "code",
   "execution_count": 4,
   "id": "c0214a26",
   "metadata": {},
   "outputs": [
    {
     "data": {
      "text/html": [
       "<div>\n",
       "<style scoped>\n",
       "    .dataframe tbody tr th:only-of-type {\n",
       "        vertical-align: middle;\n",
       "    }\n",
       "\n",
       "    .dataframe tbody tr th {\n",
       "        vertical-align: top;\n",
       "    }\n",
       "\n",
       "    .dataframe thead th {\n",
       "        text-align: right;\n",
       "    }\n",
       "</style>\n",
       "<table border=\"1\" class=\"dataframe\">\n",
       "  <thead>\n",
       "    <tr style=\"text-align: right;\">\n",
       "      <th></th>\n",
       "      <th>스트레스</th>\n",
       "      <th>스트레스남학생</th>\n",
       "      <th>스트레스여학생</th>\n",
       "      <th>우울감경험율</th>\n",
       "      <th>우울남학생</th>\n",
       "      <th>우울여학생</th>\n",
       "      <th>자살생각율</th>\n",
       "      <th>자살남학생</th>\n",
       "      <th>자살여학생</th>\n",
       "    </tr>\n",
       "  </thead>\n",
       "  <tbody>\n",
       "    <tr>\n",
       "      <th>0</th>\n",
       "      <td>35.1</td>\n",
       "      <td>29.8</td>\n",
       "      <td>40.8</td>\n",
       "      <td>25.4</td>\n",
       "      <td>21.2</td>\n",
       "      <td>29.9</td>\n",
       "      <td>11.2</td>\n",
       "      <td>8.8</td>\n",
       "      <td>13.8</td>\n",
       "    </tr>\n",
       "  </tbody>\n",
       "</table>\n",
       "</div>"
      ],
      "text/plain": [
       "   스트레스  스트레스남학생  스트레스여학생  우울감경험율  우울남학생  우울여학생  자살생각율  자살남학생  자살여학생\n",
       "0  35.1     29.8     40.8    25.4   21.2   29.9   11.2    8.8   13.8"
      ]
     },
     "execution_count": 4,
     "metadata": {},
     "output_type": "execute_result"
    }
   ],
   "source": [
    "raw_data"
   ]
  },
  {
   "cell_type": "code",
   "execution_count": 5,
   "id": "3a6a8c2b",
   "metadata": {},
   "outputs": [],
   "source": [
    "raw_data.loc[1] = 100 - raw_data.loc[0]"
   ]
  },
  {
   "cell_type": "code",
   "execution_count": 6,
   "id": "72f0a63a",
   "metadata": {},
   "outputs": [
    {
     "data": {
      "text/html": [
       "<div>\n",
       "<style scoped>\n",
       "    .dataframe tbody tr th:only-of-type {\n",
       "        vertical-align: middle;\n",
       "    }\n",
       "\n",
       "    .dataframe tbody tr th {\n",
       "        vertical-align: top;\n",
       "    }\n",
       "\n",
       "    .dataframe thead th {\n",
       "        text-align: right;\n",
       "    }\n",
       "</style>\n",
       "<table border=\"1\" class=\"dataframe\">\n",
       "  <thead>\n",
       "    <tr style=\"text-align: right;\">\n",
       "      <th></th>\n",
       "      <th>스트레스</th>\n",
       "      <th>스트레스남학생</th>\n",
       "      <th>스트레스여학생</th>\n",
       "      <th>우울감경험율</th>\n",
       "      <th>우울남학생</th>\n",
       "      <th>우울여학생</th>\n",
       "      <th>자살생각율</th>\n",
       "      <th>자살남학생</th>\n",
       "      <th>자살여학생</th>\n",
       "    </tr>\n",
       "  </thead>\n",
       "  <tbody>\n",
       "    <tr>\n",
       "      <th>0</th>\n",
       "      <td>35.1</td>\n",
       "      <td>29.8</td>\n",
       "      <td>40.8</td>\n",
       "      <td>25.4</td>\n",
       "      <td>21.2</td>\n",
       "      <td>29.9</td>\n",
       "      <td>11.2</td>\n",
       "      <td>8.8</td>\n",
       "      <td>13.8</td>\n",
       "    </tr>\n",
       "    <tr>\n",
       "      <th>1</th>\n",
       "      <td>64.9</td>\n",
       "      <td>70.2</td>\n",
       "      <td>59.2</td>\n",
       "      <td>74.6</td>\n",
       "      <td>78.8</td>\n",
       "      <td>70.1</td>\n",
       "      <td>88.8</td>\n",
       "      <td>91.2</td>\n",
       "      <td>86.2</td>\n",
       "    </tr>\n",
       "  </tbody>\n",
       "</table>\n",
       "</div>"
      ],
      "text/plain": [
       "   스트레스  스트레스남학생  스트레스여학생  우울감경험율  우울남학생  우울여학생  자살생각율  자살남학생  자살여학생\n",
       "0  35.1     29.8     40.8    25.4   21.2   29.9   11.2    8.8   13.8\n",
       "1  64.9     70.2     59.2    74.6   78.8   70.1   88.8   91.2   86.2"
      ]
     },
     "execution_count": 6,
     "metadata": {},
     "output_type": "execute_result"
    }
   ],
   "source": [
    "raw_data"
   ]
  },
  {
   "cell_type": "code",
   "execution_count": 7,
   "id": "e2f58c41",
   "metadata": {},
   "outputs": [],
   "source": [
    "raw_data['응답']=['그렇다','아니다']\n",
    "raw_data.set_index('응답',drop=True, inplace=True)"
   ]
  },
  {
   "cell_type": "code",
   "execution_count": 8,
   "id": "06415763",
   "metadata": {},
   "outputs": [
    {
     "data": {
      "text/html": [
       "<div>\n",
       "<style scoped>\n",
       "    .dataframe tbody tr th:only-of-type {\n",
       "        vertical-align: middle;\n",
       "    }\n",
       "\n",
       "    .dataframe tbody tr th {\n",
       "        vertical-align: top;\n",
       "    }\n",
       "\n",
       "    .dataframe thead th {\n",
       "        text-align: right;\n",
       "    }\n",
       "</style>\n",
       "<table border=\"1\" class=\"dataframe\">\n",
       "  <thead>\n",
       "    <tr style=\"text-align: right;\">\n",
       "      <th></th>\n",
       "      <th>스트레스</th>\n",
       "      <th>스트레스남학생</th>\n",
       "      <th>스트레스여학생</th>\n",
       "      <th>우울감경험율</th>\n",
       "      <th>우울남학생</th>\n",
       "      <th>우울여학생</th>\n",
       "      <th>자살생각율</th>\n",
       "      <th>자살남학생</th>\n",
       "      <th>자살여학생</th>\n",
       "    </tr>\n",
       "    <tr>\n",
       "      <th>응답</th>\n",
       "      <th></th>\n",
       "      <th></th>\n",
       "      <th></th>\n",
       "      <th></th>\n",
       "      <th></th>\n",
       "      <th></th>\n",
       "      <th></th>\n",
       "      <th></th>\n",
       "      <th></th>\n",
       "    </tr>\n",
       "  </thead>\n",
       "  <tbody>\n",
       "    <tr>\n",
       "      <th>그렇다</th>\n",
       "      <td>35.1</td>\n",
       "      <td>29.8</td>\n",
       "      <td>40.8</td>\n",
       "      <td>25.4</td>\n",
       "      <td>21.2</td>\n",
       "      <td>29.9</td>\n",
       "      <td>11.2</td>\n",
       "      <td>8.8</td>\n",
       "      <td>13.8</td>\n",
       "    </tr>\n",
       "    <tr>\n",
       "      <th>아니다</th>\n",
       "      <td>64.9</td>\n",
       "      <td>70.2</td>\n",
       "      <td>59.2</td>\n",
       "      <td>74.6</td>\n",
       "      <td>78.8</td>\n",
       "      <td>70.1</td>\n",
       "      <td>88.8</td>\n",
       "      <td>91.2</td>\n",
       "      <td>86.2</td>\n",
       "    </tr>\n",
       "  </tbody>\n",
       "</table>\n",
       "</div>"
      ],
      "text/plain": [
       "     스트레스  스트레스남학생  스트레스여학생  우울감경험율  우울남학생  우울여학생  자살생각율  자살남학생  자살여학생\n",
       "응답                                                                    \n",
       "그렇다  35.1     29.8     40.8    25.4   21.2   29.9   11.2    8.8   13.8\n",
       "아니다  64.9     70.2     59.2    74.6   78.8   70.1   88.8   91.2   86.2"
      ]
     },
     "execution_count": 8,
     "metadata": {},
     "output_type": "execute_result"
    }
   ],
   "source": [
    "raw_data"
   ]
  },
  {
   "cell_type": "code",
   "execution_count": 14,
   "id": "31ffd242",
   "metadata": {},
   "outputs": [],
   "source": [
    "import matplotlib.pyplot as plt\n",
    "%matplotlib inline\n",
    "\n",
    "from matplotlib import font_manager, rc\n",
    "plt.rcParams['axes.unicode_minus'] = False\n",
    "\n",
    "#f_path=\"/System/Library/Fonts/Supplemental/Arial Unicode.ttf\"\n",
    "f_path=\"C:\\windows\\Fonts\\나눔고딕.ttf\"\n",
    "\n",
    "font_name=font_manager.FontProperties(fname=f_path).get_name()\n",
    "rc('font', family=font_name)"
   ]
  },
  {
   "cell_type": "code",
   "execution_count": 16,
   "id": "0edc0b2d",
   "metadata": {},
   "outputs": [
    {
     "data": {
      "text/plain": [
       "<AxesSubplot:ylabel='스트레스'>"
      ]
     },
     "execution_count": 16,
     "metadata": {},
     "output_type": "execute_result"
    },
    {
     "data": {
      "image/png": "[encoded data removed]",
      "text/plain": [
       "<Figure size 432x288 with 1 Axes>"
      ]
     },
     "metadata": {},
     "output_type": "display_data"
    }
   ],
   "source": [
    "raw_data['스트레스'].plot.pie()"
   ]
  },
  {
   "cell_type": "code",
   "execution_count": 19,
   "id": "bbcd191c",
   "metadata": {},
   "outputs": [
    {
     "data": {
      "text/plain": [
       "<AxesSubplot:ylabel='스트레스'>"
      ]
     },
     "execution_count": 19,
     "metadata": {},
     "output_type": "execute_result"
    },
    {
     "data": {
      "image/png": "[encoded data removed]",
      "text/plain": [
       "<Figure size 432x288 with 1 Axes>"
      ]
     },
     "metadata": {},
     "output_type": "display_data"
    }
   ],
   "source": [
    "raw_data['스트레스'].plot.pie(explode=[0,0.1])"
   ]
  },
  {
   "cell_type": "code",
   "execution_count": 29,
   "id": "1e6e1367",
   "metadata": {},
   "outputs": [
    {
     "data": {
      "text/plain": [
       "<function matplotlib.pyplot.show(close=None, block=None)>"
      ]
     },
     "execution_count": 29,
     "metadata": {},
     "output_type": "execute_result"
    },
    {
     "data": {
      "image/png": "[encoded data removed]",
      "text/plain": [
       "<Figure size 1152x576 with 3 Axes>"
      ]
     },
     "metadata": {},
     "output_type": "display_data"
    }
   ],
   "source": [
    "fig, ax = plt.subplots(1,3, figsize=(16,8))  #subplots(1,3   는(=) 1렬로 3개\n",
    "\n",
    "raw_data['스트레스'].plot.pie(explode=[0,0.02], ax=ax[0], autopct='%1.1f%%')\n",
    "ax[0].set_title('스트레스를 받은적 있다')\n",
    "ax[0].set_ylabel('')  \n",
    "\n",
    "raw_data['우울감경험율'].plot.pie(explode=[0,0.02], ax=ax[1], autopct='%1.1f%%')\n",
    "ax[1].set_title('우울증을 경험한적 있다')\n",
    "ax[1].set_ylabel('')\n",
    "\n",
    "raw_data['자살생각율'].plot.pie(explode=[0,0.02], ax=ax[2], autopct='%1.1f%%')\n",
    "ax[2].set_title('자살을 고민한적 있다')\n",
    "ax[2].set_ylabel('')\n",
    "\n",
    "plt.show"
   ]
  },
  {
   "cell_type": "code",
   "execution_count": null,
   "id": "abf5da14",
   "metadata": {},
   "outputs": [],
   "source": []
  }
 ],
 "metadata": {
  "kernelspec": {
   "display_name": "Python 3 (ipykernel)",
   "language": "python",
   "name": "python3"
  },
  "language_info": {
   "codemirror_mode": {
    "name": "ipython",
    "version": 3
   },
   "file_extension": ".py",
   "mimetype": "text/x-python",
   "name": "python",
   "nbconvert_exporter": "python",
   "pygments_lexer": "ipython3",
   "version": "3.9.7"
  }
 },
 "nbformat": 4,
 "nbformat_minor": 5
}
